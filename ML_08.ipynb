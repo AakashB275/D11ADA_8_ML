{
  "nbformat": 4,
  "nbformat_minor": 0,
  "metadata": {
    "colab": {
      "provenance": []
    },
    "kernelspec": {
      "name": "python3",
      "display_name": "Python 3"
    },
    "language_info": {
      "name": "python"
    }
  },
  "cells": [
    {
      "cell_type": "code",
      "execution_count": null,
      "metadata": {
        "id": "_nv1Y6a0E6Fg"
      },
      "outputs": [],
      "source": [
        "def mp_neuron(inputs, weights, threshold):\n",
        "\n",
        "    summation = sum(w * x for w, x in zip(weights, inputs))\n",
        "    return int(summation >= threshold)\n"
      ]
    },
    {
      "cell_type": "code",
      "source": [
        "# AND Gate\n",
        "def AND(x1, x2):\n",
        "    return mp_neuron([x1, x2], [1, 1], 2)\n",
        "\n",
        "# OR Gate\n",
        "def OR(x1, x2):\n",
        "    return mp_neuron([x1, x2], [1, 1], 1)\n",
        "\n",
        "# NOT Gate (Unary)\n",
        "def NOT(x):\n",
        "    return mp_neuron([x], [-1], -0.5)\n",
        "\n",
        "# NOR Gate\n",
        "def NOR(x1, x2):\n",
        "    return mp_neuron([x1, x2], [-1, -1], -0.5)\n",
        "\n",
        "# NAND Gate\n",
        "def NAND(x1, x2):\n",
        "    return mp_neuron([x1, x2], [-1, -1], -1.5)\n"
      ],
      "metadata": {
        "id": "U9ZPWY6jFEHp"
      },
      "execution_count": null,
      "outputs": []
    },
    {
      "cell_type": "code",
      "source": [
        "def test_gates():\n",
        "    print(\"AND Gate\")\n",
        "    for x1 in [0, 1]:\n",
        "        for x2 in [0, 1]:\n",
        "            print(f\"{x1} AND {x2} = {AND(x1, x2)}\")\n",
        "\n",
        "    print(\"\\nOR Gate\")\n",
        "    for x1 in [0, 1]:\n",
        "        for x2 in [0, 1]:\n",
        "            print(f\"{x1} OR {x2} = {OR(x1, x2)}\")\n",
        "\n",
        "    print(\"\\nNOT Gate\")\n",
        "    for x in [0, 1]:\n",
        "        print(f\"NOT {x} = {NOT(x)}\")\n",
        "\n",
        "    print(\"\\nNOR Gate\")\n",
        "    for x1 in [0, 1]:\n",
        "        for x2 in [0, 1]:\n",
        "            print(f\"{x1} NOR {x2} = {NOR(x1, x2)}\")\n",
        "\n",
        "    print(\"\\nNAND Gate\")\n",
        "    for x1 in [0, 1]:\n",
        "        for x2 in [0, 1]:\n",
        "            print(f\"{x1} NAND {x2} = {NAND(x1, x2)}\")\n",
        "\n",
        "test_gates()\n"
      ],
      "metadata": {
        "colab": {
          "base_uri": "https://localhost:8080/"
        },
        "id": "BXqVV3_ZFGtR",
        "outputId": "b369a3d3-4489-45f6-ff61-26aa158fabc5"
      },
      "execution_count": null,
      "outputs": [
        {
          "output_type": "stream",
          "name": "stdout",
          "text": [
            "AND Gate\n",
            "0 AND 0 = 0\n",
            "0 AND 1 = 0\n",
            "1 AND 0 = 0\n",
            "1 AND 1 = 1\n",
            "\n",
            "OR Gate\n",
            "0 OR 0 = 0\n",
            "0 OR 1 = 1\n",
            "1 OR 0 = 1\n",
            "1 OR 1 = 1\n",
            "\n",
            "NOT Gate\n",
            "NOT 0 = 1\n",
            "NOT 1 = 0\n",
            "\n",
            "NOR Gate\n",
            "0 NOR 0 = 1\n",
            "0 NOR 1 = 0\n",
            "1 NOR 0 = 0\n",
            "1 NOR 1 = 0\n",
            "\n",
            "NAND Gate\n",
            "0 NAND 0 = 1\n",
            "0 NAND 1 = 1\n",
            "1 NAND 0 = 1\n",
            "1 NAND 1 = 0\n"
          ]
        }
      ]
    }
  ]
}