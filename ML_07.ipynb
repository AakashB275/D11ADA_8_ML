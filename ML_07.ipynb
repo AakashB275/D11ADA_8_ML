{
  "nbformat": 4,
  "nbformat_minor": 0,
  "metadata": {
    "colab": {
      "provenance": []
    },
    "kernelspec": {
      "name": "python3",
      "display_name": "Python 3"
    },
    "language_info": {
      "name": "python"
    }
  },
  "cells": [
    {
      "cell_type": "code",
      "execution_count": null,
      "metadata": {
        "id": "ak85lOpZ9bd2"
      },
      "outputs": [],
      "source": [
        "import numpy as np\n",
        "import pandas as pd\n",
        "import matplotlib.pyplot as plt\n",
        "from sklearn.datasets import fetch_california_housing\n",
        "from sklearn.preprocessing import StandardScaler"
      ]
    },
    {
      "cell_type": "code",
      "source": [
        "housing = fetch_california_housing(as_frame=True)\n",
        "df = housing.frame"
      ],
      "metadata": {
        "id": "E0sS6lRt9eCD"
      },
      "execution_count": null,
      "outputs": []
    },
    {
      "cell_type": "code",
      "source": [
        "X = df[['MedInc', 'AveRooms', 'HouseAge', 'AveOccup']].values   # independent vars\n",
        "y = df['MedHouseVal'].values.reshape(-1, 1)"
      ],
      "metadata": {
        "id": "MmiFXDci9kKS"
      },
      "execution_count": null,
      "outputs": []
    },
    {
      "cell_type": "code",
      "source": [
        "scaler_X = StandardScaler()\n",
        "scaler_y = StandardScaler()\n",
        "\n",
        "X_scaled = scaler_X.fit_transform(X)\n",
        "y_scaled = scaler_y.fit_transform(y)"
      ],
      "metadata": {
        "id": "wBN-wJpB9t4q"
      },
      "execution_count": null,
      "outputs": []
    },
    {
      "cell_type": "code",
      "source": [
        "X_b = np.c_[np.ones((X_scaled.shape[0], 1)), X_scaled]"
      ],
      "metadata": {
        "id": "j72bjTC09kjb"
      },
      "execution_count": null,
      "outputs": []
    },
    {
      "cell_type": "code",
      "source": [
        "m, n = X_b.shape\n",
        "theta = np.zeros((n, 1))\n",
        "alpha = 0.01        # learning rate\n",
        "iterations = 500"
      ],
      "metadata": {
        "id": "sMSAFNvK91kD"
      },
      "execution_count": null,
      "outputs": []
    },
    {
      "cell_type": "code",
      "source": [
        "def compute_cost(X, y, theta):\n",
        "    m = len(y)\n",
        "    predictions = X.dot(theta)\n",
        "    error = predictions - y\n",
        "    cost = (1/(2*m)) * np.sum(error ** 2)\n",
        "    return cost"
      ],
      "metadata": {
        "id": "FuBJRw4P94di"
      },
      "execution_count": null,
      "outputs": []
    },
    {
      "cell_type": "code",
      "source": [
        "def gradient_descent(X, y, theta, alpha, iterations):\n",
        "    m = len(y)\n",
        "    cost_history = []\n",
        "\n",
        "    for i in range(iterations):\n",
        "        predictions = X.dot(theta)\n",
        "        error = predictions - y\n",
        "        gradients = (1/m) * X.T.dot(error)\n",
        "        theta = theta - alpha * gradients\n",
        "        cost = compute_cost(X, y, theta)\n",
        "        cost_history.append(cost)\n",
        "\n",
        "    return theta, cost_history"
      ],
      "metadata": {
        "id": "s7g4VnVV96uC"
      },
      "execution_count": null,
      "outputs": []
    },
    {
      "cell_type": "code",
      "source": [
        "theta_final, cost_history = gradient_descent(X_b, y_scaled, theta, alpha, iterations)\n"
      ],
      "metadata": {
        "id": "jolQ1nCP99Yi"
      },
      "execution_count": null,
      "outputs": []
    },
    {
      "cell_type": "code",
      "source": [
        "print(\"Gradient Descent Completed\")\n",
        "print(f\"Final cost after {iterations} iterations: {cost_history[-1]:.6f}\")\n",
        "print(f\"Learned Parameters (θ):\\n{theta_final}\")"
      ],
      "metadata": {
        "colab": {
          "base_uri": "https://localhost:8080/"
        },
        "id": "QO28TkPj9_fi",
        "outputId": "41550828-f0f2-4ce7-bfa3-31ebea739572"
      },
      "execution_count": null,
      "outputs": [
        {
          "output_type": "stream",
          "name": "stdout",
          "text": [
            "Gradient Descent Completed\n",
            "Final cost after 500 iterations: 0.243265\n",
            "Learned Parameters (θ):\n",
            "[[ 1.63084017e-16]\n",
            " [ 7.15626971e-01]\n",
            " [-4.66141309e-02]\n",
            " [ 1.81886999e-01]\n",
            " [-3.88786313e-02]]\n"
          ]
        }
      ]
    },
    {
      "cell_type": "code",
      "source": [
        "plt.figure(figsize=(6,4))\n",
        "plt.plot(range(iterations), cost_history, color='green')\n",
        "plt.xlabel('Iterations')\n",
        "plt.ylabel('Cost (MSE)')\n",
        "plt.title('Cost Function Convergence - Gradient Descent')\n",
        "plt.grid(True)\n",
        "plt.show()"
      ],
      "metadata": {
        "colab": {
          "base_uri": "https://localhost:8080/",
          "height": 410
        },
        "id": "A2tHCDSy-CkK",
        "outputId": "ed6606c4-1b8e-4bf3-dc79-27337057d811"
      },
      "execution_count": null,
      "outputs": [
        {
          "output_type": "display_data",
          "data": {
            "text/plain": [
              "<Figure size 600x400 with 1 Axes>"
            ],
            "image/png": "[encoded data removed]"
          },
          "metadata": {}
        }
      ]
    },
    {
      "cell_type": "code",
      "source": [
        "sample = np.array([[5, 6, 20, 3]])   # example input (MedInc, AveRooms, HouseAge, AveOccup)\n",
        "sample_scaled = scaler_X.transform(sample)\n",
        "sample_scaled = np.c_[np.ones((1, 1)), sample_scaled]\n",
        "pred_scaled = sample_scaled.dot(theta_final)\n",
        "predicted_price = scaler_y.inverse_transform(pred_scaled)\n",
        "\n",
        "print(f\"\\n🏠 Predicted House Price (in $100,000s): {predicted_price[0][0]:.2f}\")"
      ],
      "metadata": {
        "colab": {
          "base_uri": "https://localhost:8080/"
        },
        "id": "9SfAsiDO-FWS",
        "outputId": "0db2468c-19e0-4e0f-e090-4346c4a1c212"
      },
      "execution_count": null,
      "outputs": [
        {
          "output_type": "stream",
          "name": "stdout",
          "text": [
            "\n",
            "🏠 Predicted House Price (in $100,000s): 2.40\n"
          ]
        }
      ]
    }
  ]
}